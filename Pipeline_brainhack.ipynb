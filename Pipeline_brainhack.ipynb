{
 "cells": [
  {
   "cell_type": "markdown",
   "metadata": {},
   "source": [
    "# Calling libraries"
   ]
  },
  {
   "cell_type": "code",
   "execution_count": 1,
   "metadata": {
    "collapsed": false
   },
   "outputs": [],
   "source": [
    "import numpy as np\n",
    "import scipy.io as sio\n",
    "import glob\n",
    "from sklearn import preprocessing\n",
    "from sklearn.model_selection import StratifiedShuffleSplit, cross_val_score, train_test_split\n",
    "from sklearn.pipeline import Pipeline\n",
    "from sklearn.datasets import make_moons, make_circles, make_classification\n",
    "\n",
    "from sklearn.ensemble import RandomForestClassifier\n",
    "from sklearn.ensemble import ExtraTreesClassifier\n",
    "from sklearn.naive_bayes import GaussianNB\n",
    "from sklearn.discriminant_analysis import LinearDiscriminantAnalysis\n",
    "\n",
    "from sklearn.preprocessing import StandardScaler\n",
    "\n",
    "from sklearn.model_selection import GridSearchCV\n",
    "from sklearn.metrics import confusion_matrix\n",
    "from sklearn.metrics import classification_report\n",
    "\n",
    "import seaborn\n",
    "import matplotlib.pyplot as plt\n",
    "%matplotlib inline"
   ]
  },
  {
   "cell_type": "markdown",
   "metadata": {},
   "source": [
    "# Load data\n",
    "## a) from file"
   ]
  },
  {
   "cell_type": "code",
   "execution_count": null,
   "metadata": {
    "collapsed": false
   },
   "outputs": [],
   "source": [
    "x=sio.loadmat('/home/rocio/Documents/Anaconda/Python_scripts/name_file.mat')['x']\n",
    "s_y=sio.loadmat('/home/rocio/Documents/Anaconda/Python_scripts/name_file.mat')['y']\n",
    "y=np.ravel(s_y)\n",
    "        \n",
    "print(x.shape, y.shape) #size of matrix\n",
    "print(\"\")"
   ]
  },
  {
   "cell_type": "markdown",
   "metadata": {},
   "source": [
    "## b) fake data"
   ]
  },
  {
   "cell_type": "code",
   "execution_count": 2,
   "metadata": {
    "collapsed": false
   },
   "outputs": [
    {
     "name": "stdout",
     "output_type": "stream",
     "text": [
      "(100, 5)\n",
      "(100,)\n"
     ]
    }
   ],
   "source": [
    "x, y = make_classification(n_features=5, n_redundant=0, n_informative=2,\n",
    "                           random_state=1, n_clusters_per_class=1)\n",
    "\n",
    "print(x.shape)\n",
    "print(y.shape)"
   ]
  },
  {
   "cell_type": "markdown",
   "metadata": {},
   "source": [
    "# Train_test_split"
   ]
  },
  {
   "cell_type": "code",
   "execution_count": 3,
   "metadata": {
    "collapsed": true
   },
   "outputs": [],
   "source": [
    "x_train, x_test, y_train, y_test = train_test_split(x, y, test_size=0.2, random_state=1)         \n",
    "\n",
    "pipe=Pipeline([('clf', RandomForestClassifier())])"
   ]
  },
  {
   "cell_type": "markdown",
   "metadata": {},
   "source": [
    "# Optimizing clasifier"
   ]
  },
  {
   "cell_type": "code",
   "execution_count": 8,
   "metadata": {
    "collapsed": false
   },
   "outputs": [
    {
     "name": "stdout",
     "output_type": "stream",
     "text": [
      "Best score:0.989\n",
      "{'clf__n_estimators': 1, 'clf__max_features': 5}\n",
      "Test accuracy: 1.000\n",
      "             precision    recall  f1-score   support\n",
      "\n",
      "          0       1.00      1.00      1.00         5\n",
      "          1       1.00      1.00      1.00         5\n",
      "\n",
      "avg / total       1.00      1.00      1.00        10\n",
      "\n"
     ]
    }
   ],
   "source": [
    "param_range_estimators=[1, 10, 12] #number of trees: 100, 120, 150\n",
    "param_range_features=[2, 5] #number of features: 2, 3, 5\n",
    "param_grid=[{'clf__n_estimators':param_range_estimators,\n",
    "             'clf__max_features':param_range_features}]\n",
    "\n",
    "\n",
    "gs=GridSearchCV(estimator=pipe,\n",
    "                param_grid=param_grid,\n",
    "                scoring='accuracy',\n",
    "                cv=2, #cv=10\n",
    "                n_jobs=-1)\n",
    "\n",
    "\n",
    "gs.fit(x_train, y_train)\n",
    "\n",
    "y_pred=gs.predict(x_test)\n",
    "cm=confusion_matrix(y_test, y_pred)\n",
    "\n",
    "print('Best score:%.3f' % gs.best_score_)\n",
    "print(gs.best_params_)\n",
    "\n",
    "print('Test accuracy: %.3f' % gs.score(x_test, y_test))\n",
    "print(classification_report(y_test, y_pred))\n",
    "\n"
   ]
  },
  {
   "cell_type": "code",
   "execution_count": 9,
   "metadata": {
    "collapsed": false
   },
   "outputs": [],
   "source": [
    "import itertools\n",
    "\n",
    "#http://matplotlib.org/users/colormaps.html ---elegir colores para cmap\n",
    "def plot_confusion_matrix(cm, title='Confusion matrix', cmap=plt.cm.viridis):\n",
    "    plt.imshow(cm, interpolation='nearest', cmap=cmap)  #Display an image on the axes\n",
    "    plt.title(title)\n",
    "    plt.colorbar() #Es la barra vertical que aparece a la derecha\n",
    "    tick_marks = np.arange(len(np.unique(y))) #Tiene la longitud del # de clases. Es una matriz\n",
    "                                                   \n",
    "    plt.xticks(tick_marks, rotation=90) #los nombres girados\n",
    "    ax = plt.gca()\n",
    "    ax.set_xticklabels(['s'+lab for lab in (ax.get_xticks()+1).astype(str)])\n",
    "    plt.yticks(tick_marks)\n",
    "    ax.set_yticklabels(['s'+lab for lab in (ax.get_yticks()+1).astype(str)])\n",
    "            \n",
    "    plt.tight_layout()  #No veo ninguna diferencia\n",
    "    plt.ylabel('True label')\n",
    "    plt.xlabel('Predicted label')"
   ]
  },
  {
   "cell_type": "code",
   "execution_count": 10,
   "metadata": {
    "collapsed": false
   },
   "outputs": [
    {
     "data": {
      "image/png": "[encoded data removed]",
      "text/plain": [
       "<matplotlib.figure.Figure at 0xa8c97aec>"
      ]
     },
     "metadata": {},
     "output_type": "display_data"
    }
   ],
   "source": [
    "cm_normalized = cm.astype('float') / cm.sum(axis=1)[:, np.newaxis]\n",
    "\n",
    "plt.figure(figsize=(8,6))\n",
    "plot_confusion_matrix(cm_normalized)"
   ]
  },
  {
   "cell_type": "code",
   "execution_count": null,
   "metadata": {
    "collapsed": true
   },
   "outputs": [],
   "source": []
  }
 ],
 "metadata": {
  "kernelspec": {
   "display_name": "Python 3",
   "language": "python",
   "name": "python3"
  },
  "language_info": {
   "codemirror_mode": {
    "name": "ipython",
    "version": 3
   },
   "file_extension": ".py",
   "mimetype": "text/x-python",
   "name": "python",
   "nbconvert_exporter": "python",
   "pygments_lexer": "ipython3",
   "version": "3.5.2"
  }
 },
 "nbformat": 4,
 "nbformat_minor": 0
}
