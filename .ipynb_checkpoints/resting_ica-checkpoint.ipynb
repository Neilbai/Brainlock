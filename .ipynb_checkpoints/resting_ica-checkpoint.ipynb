{
 "cells": [
  {
   "cell_type": "markdown",
   "metadata": {},
   "source": [
    "# Importing Libraries"
   ]
  },
  {
   "cell_type": "code",
   "execution_count": 5,
   "metadata": {
    "collapsed": false
   },
   "outputs": [],
   "source": [
    "import mne\n",
    "import numpy as np\n",
    "import matplotlib.pyplot as plt\n",
    "from scipy import signal\n",
    "\n",
    "from sklearn.decomposition import FastICA, PCA\n",
    "#https://www.physionet.org/pn4/eegmmidb/\n"
   ]
  },
  {
   "cell_type": "markdown",
   "metadata": {},
   "source": [
    "# Reading raw data and picking the relevant channels"
   ]
  },
  {
   "cell_type": "code",
   "execution_count": 26,
   "metadata": {
    "collapsed": false
   },
   "outputs": [
    {
     "name": "stdout",
     "output_type": "stream",
     "text": [
      "ds directory : MNI0041_MEGs0003_resting_20130416_03_AUX.ds\n",
      "    res4 data read.\n",
      "    hc data read.\n",
      "    Separate EEG position data file not present.\n",
      "    Quaternion matching (desired vs. transformed):\n",
      "      -0.85   76.48    0.00 mm <->   -0.85   76.48    0.00 mm (orig :  -46.14   59.20 -259.00 mm) diff =    0.000 mm\n",
      "       0.85  -76.48    0.00 mm <->    0.85  -76.48    0.00 mm (orig :   56.59  -54.14 -259.86 mm) diff =    0.000 mm\n",
      "      98.79    0.00    0.00 mm <->   98.79    0.00    0.00 mm (orig :   74.35   63.43 -223.78 mm) diff =    0.000 mm\n",
      "    Coordinate transformations established.\n",
      "    Reading digitizer points from ['MNI0041_MEGs0003_resting_20130416_03_AUX.ds\\\\MNI0041_MEGs0003_20130416_01.pos']...\n",
      "    Polhemus data for 3 HPI coils added\n",
      "    Device coordinate locations for 3 HPI coils added\n",
      "Picked positions of 3 EEG channels from channel info\n",
      "    3 EEG locations added to Polhemus data.\n",
      "    Measurement info composed.\n",
      "Finding samples for MNI0041_MEGs0003_resting_20130416_03_AUX.ds\\MNI0041_MEGs0003_resting_20130416_03_AUX.meg4: \n",
      "    System clock channel is available, checking which samples are valid.\n",
      "    299 x 2400 = 717600 samples from 330 chs\n",
      "Current compensation grade : 3\n",
      "Reading 0 ... 717599  =      0.000 ...   299.000 secs...\n"
     ]
    }
   ],
   "source": [
    "#raw = mne.io.read_raw_ctf('MNI0041_MEGs0003_resting_20130416_03_AUX.ds', preload=True)\n"
   ]
  },
  {
   "cell_type": "code",
   "execution_count": 6,
   "metadata": {
    "collapsed": false
   },
   "outputs": [
    {
     "name": "stdout",
     "output_type": "stream",
     "text": [
      "Extracting edf Parameters from S001R02.edf...\n",
      "Setting channel info structure...\n",
      "Creating Raw.info structure...\n",
      "Reading 0 ... 9759  =      0.000 ...    60.994 secs...\n",
      "Ready.\n"
     ]
    }
   ],
   "source": [
    "raw = mne.io.read_raw_edf(\"S001R02.edf\", preload=True)"
   ]
  },
  {
   "cell_type": "code",
   "execution_count": 7,
   "metadata": {
    "collapsed": false
   },
   "outputs": [
    {
     "name": "stdout",
     "output_type": "stream",
     "text": [
      "[u'Fc5.', u'Fc3.', u'Fc1.', u'Fcz.', u'Fc2.', u'Fc4.', u'Fc6.', u'C5..', u'C3..', u'C1..', u'Cz..', u'C2..', u'C4..', u'C6..', u'Cp5.', u'Cp3.', u'Cp1.', u'Cpz.', u'Cp2.', u'Cp4.', u'Cp6.', u'Fp1.', u'Fpz.', u'Fp2.', u'Af7.', u'Af3.', u'Afz.', u'Af4.', u'Af8.', u'F7..', u'F5..', u'F3..', u'F1..', u'Fz..', u'F2..', u'F4..', u'F6..', u'F8..', u'Ft7.', u'Ft8.', u'T7..', u'T8..', u'T9..', u'T10.', u'Tp7.', u'Tp8.', u'P7..', u'P5..', u'P3..', u'P1..', u'Pz..', u'P2..', u'P4..', u'P6..', u'P8..', u'Po7.', u'Po3.', u'Poz.', u'Po4.', u'Po8.', u'O1..', u'Oz..', u'O2..', u'Iz..', 'STI 014']\n"
     ]
    }
   ],
   "source": [
    "print(raw.ch_names)"
   ]
  },
  {
   "cell_type": "code",
   "execution_count": 33,
   "metadata": {
    "collapsed": false
   },
   "outputs": [
    {
     "name": "stdout",
     "output_type": "stream",
     "text": [
      "<RawEDF  |  S001R02.edf, n_channels x n_times : 65 x 9760 (61.0 sec), ~5.0 MB, data loaded>\n"
     ]
    }
   ],
   "source": [
    "print (raw)"
   ]
  },
  {
   "cell_type": "markdown",
   "metadata": {},
   "source": [
    "# Checking what the actual data looks like"
   ]
  },
  {
   "cell_type": "code",
   "execution_count": 2,
   "metadata": {
    "collapsed": false
   },
   "outputs": [
    {
     "ename": "NameError",
     "evalue": "name 'raw' is not defined",
     "output_type": "error",
     "traceback": [
      "\u001b[1;31m---------------------------------------------------------------------------\u001b[0m",
      "\u001b[1;31mNameError\u001b[0m                                 Traceback (most recent call last)",
      "\u001b[1;32m<ipython-input-2-d4ffb847f525>\u001b[0m in \u001b[0;36m<module>\u001b[1;34m()\u001b[0m\n\u001b[1;32m----> 1\u001b[1;33m \u001b[0mraw\u001b[0m\u001b[1;33m.\u001b[0m\u001b[0mplot\u001b[0m\u001b[1;33m(\u001b[0m\u001b[1;33m)\u001b[0m\u001b[1;33m\u001b[0m\u001b[0m\n\u001b[0m",
      "\u001b[1;31mNameError\u001b[0m: name 'raw' is not defined"
     ]
    }
   ],
   "source": [
    "raw.plot()"
   ]
  },
  {
   "cell_type": "code",
   "execution_count": 8,
   "metadata": {
    "collapsed": false
   },
   "outputs": [],
   "source": [
    "X = raw._data.T #Transposing the data to use it in the ICA"
   ]
  },
  {
   "cell_type": "code",
   "execution_count": null,
   "metadata": {
    "collapsed": false
   },
   "outputs": [],
   "source": []
  },
  {
   "cell_type": "markdown",
   "metadata": {},
   "source": [
    "# Plotting Raw Data"
   ]
  },
  {
   "cell_type": "code",
   "execution_count": 10,
   "metadata": {
    "collapsed": false
   },
   "outputs": [
    {
     "data": {
      "text/plain": [
       "<matplotlib.figure.Figure at 0xa446e48>"
      ]
     },
     "execution_count": 10,
     "metadata": {},
     "output_type": "execute_result"
    }
   ],
   "source": [
    "raw.plot(n_channels=3, duration=1, start=60)"
   ]
  },
  {
   "cell_type": "markdown",
   "metadata": {},
   "source": [
    "# Running FastICA and PCA on the transposed data"
   ]
  },
  {
   "cell_type": "code",
   "execution_count": 11,
   "metadata": {
    "collapsed": false
   },
   "outputs": [],
   "source": [
    "ica = FastICA()\n",
    "S_ = ica.fit_transform(X)\n",
    "A_ = ica.mixing_"
   ]
  },
  {
   "cell_type": "code",
   "execution_count": 12,
   "metadata": {
    "collapsed": true
   },
   "outputs": [],
   "source": [
    "pca = PCA()\n",
    "H = pca.fit_transform(X)"
   ]
  },
  {
   "cell_type": "markdown",
   "metadata": {},
   "source": [
    "# Plotting the ICA"
   ]
  },
  {
   "cell_type": "code",
   "execution_count": 13,
   "metadata": {
    "collapsed": false
   },
   "outputs": [],
   "source": [
    "plt.figure()\n",
    "plt.plot(S_)\n",
    "plt.show()"
   ]
  },
  {
   "cell_type": "code",
   "execution_count": null,
   "metadata": {
    "collapsed": true
   },
   "outputs": [],
   "source": []
  }
 ],
 "metadata": {
  "kernelspec": {
   "display_name": "Python 2",
   "language": "python",
   "name": "python2"
  },
  "language_info": {
   "codemirror_mode": {
    "name": "ipython",
    "version": 2
   },
   "file_extension": ".py",
   "mimetype": "text/x-python",
   "name": "python",
   "nbconvert_exporter": "python",
   "pygments_lexer": "ipython2",
   "version": "2.7.13"
  }
 },
 "nbformat": 4,
 "nbformat_minor": 2
}
